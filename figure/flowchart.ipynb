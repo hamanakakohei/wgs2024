{
 "cells": [
  {
   "cell_type": "code",
   "execution_count": 113,
   "id": "e0610f5c-bc3c-4c2b-ba92-48ed6a13ba2e",
   "metadata": {},
   "outputs": [],
   "source": [
    "# graph env\n",
    "import graphviz\n",
    "import os\n",
    "\n",
    "os.environ[\"PATH\"] += os.pathsep + \"/home/hamanaka/miniconda3/envs/graph/bin/\""
   ]
  },
  {
   "cell_type": "code",
   "execution_count": 114,
   "id": "7a6e4de5-9c43-478b-a0cf-11bfb7181ef1",
   "metadata": {},
   "outputs": [
    {
     "name": "stderr",
     "output_type": "stream",
     "text": [
      "Warning: Orthogonal edges do not currently handle edge labels. Try using xlabels.\n"
     ]
    },
    {
     "data": {
      "text/plain": [
       "'Digraph.gv.png'"
      ]
     },
     "execution_count": 114,
     "metadata": {},
     "output_type": "execute_result"
    },
    {
     "name": "stderr",
     "output_type": "stream",
     "text": [
      "Error: no \"view\" mailcap rules found for type \"image/png\"\n"
     ]
    }
   ],
   "source": [
    "# main\n",
    "\n",
    "FS = \"6\"\n",
    "WI = \"1.8\"\n",
    "HE = \"0.6\"\n",
    "\n",
    "dot = graphviz.Digraph(format = 'png', engine = 'dot', comment = \"aaa\")\n",
    "#dot = graphviz.Digraph(filename = 'main.gv', engine = 'dot', comment = \"aaa\")\n",
    "\n",
    "dot.node('1', '260 ID/DD families\\n- 246 trios\\n- 9 quads\\n- 3 duos\\n- 2 singletons', shape='box', fontname='Arial', fontsize=FS, width=WI, heigth=HE, style='rounded')\n",
    "dot.node('2', 'GS',                          shape='rectangle', fontname='Arial', fontsize=FS, width=WI, heigth=HE)\n",
    "dot.node('3', 'Candidate SNV/InDel?',        shape='diamond',   fontname='Arial', fontsize=FS, width=WI, heigth=HE)\n",
    "dot.node('4', 'High SpliceAI score?' ,       shape='diamond',   fontname='Arial', fontsize=FS, width=WI, heigth=HE)\n",
    "dot.node('5', 'Candidate SV?',               shape='diamond',   fontname='Arial', fontsize=FS, width=WI, heigth=HE)\n",
    "dot.node('56', '-',                          shape='point',   fontname='Arial', fontsize=FS, width=WI, heigth=HE)\n",
    "dot.node('6', 'Candidate\\nrepeat expansion?', shape='diamond',  fontname='Arial', fontsize=FS, width=WI, heigth=HE)\n",
    "dot.node('67', '-',                          shape='point',   fontname='Arial', fontsize=FS, width=WI, heigth=HE)\n",
    "dot.node('7', '206 with no candidate',                shape='box',      fontname='Arial', fontsize=FS, width=WI, heigth=HE, style='rounded')\n",
    "\n",
    "dot.edge('1', '2', label = '')\n",
    "dot.edge('2', '3',   label = '')\n",
    "dot.edge('3', '4',   label = 'No', fontname='Arial', fontsize=FS)\n",
    "dot.edge('4', '5',   label = 'No', fontname='Arial', fontsize=FS)\n",
    "dot.edge('5', '56',   label = 'No', fontname='Arial', fontsize=FS)\n",
    "dot.edge('56', '6',   label = 'No', fontname='Arial', fontsize=FS)\n",
    "dot.edge('6', '67',   label = 'No', fontname='Arial', fontsize=FS)\n",
    "dot.edge('67', '7',   label = 'No', fontname='Arial', fontsize=FS)\n",
    "\n",
    "dot.attr(\"graph\", splines = \"ortho\", rankdir = \"TB\", dpi=\"1000\")\n",
    "dot.render('./main', view=True)\n",
    "#dot.view()\n",
    "\n",
    "\n"
   ]
  },
  {
   "cell_type": "code",
   "execution_count": 109,
   "id": "011d604b-49c5-4f9b-8d3b-c57271eb7910",
   "metadata": {},
   "outputs": [
    {
     "name": "stderr",
     "output_type": "stream",
     "text": [
      "Warning: Orthogonal edges do not currently handle edge labels. Try using xlabels.\n"
     ]
    },
    {
     "data": {
      "text/plain": [
       "'sub1.png'"
      ]
     },
     "execution_count": 109,
     "metadata": {},
     "output_type": "execute_result"
    },
    {
     "name": "stderr",
     "output_type": "stream",
     "text": [
      "Error: no \"view\" mailcap rules found for type \"image/png\"\n"
     ]
    }
   ],
   "source": [
    "# sub1\n",
    "\n",
    "FS = \"6\"\n",
    "WI = \"1.8\"\n",
    "HE = \"0.6\"\n",
    "\n",
    "dot = graphviz.Digraph(format = 'png', engine = 'dot', comment = \"aaa\")\n",
    "\n",
    "dot.node('3',   'Candidate SNV/InDel?',      shape='diamond', fontname='Arial', fontsize=FS, width=WI, heigth=HE)\n",
    "dot.node('3-2', '16 P/LP & 2 VUS\\n(Fig. S1)', shape='box',     fontname='Arial', fontsize=FS, width=WI, heigth=HE, style='rounded')\n",
    "\n",
    "dot.node('4',   'High SpliceAI score?',             shape='diamond', fontname='Arial', fontsize=FS, width=WI, heigth=HE)\n",
    "dot.node('4-2', '7 P/LP & 2 VUS\\n(Fig. 5 & S7)', shape='box',     fontname='Arial', fontsize=FS, width=WI, heigth=HE, style='rounded')\n",
    "\n",
    "dot.node('5',   'Candidate SV?',                   shape='diamond', fontname='Arial', fontsize=FS, width=WI, heigth=HE)\n",
    "dot.node('5-2', 'Structure resolved?',   shape='diamond', fontname='Arial', fontsize=FS, width=WI, heigth=HE)\n",
    "dot.node('5-3', '17 P/LP & 4 VUS\\n(Fig. 2, 6, & S3)', shape='box',     fontname='Arial', fontsize=FS, width=WI, heigth=HE, style='rounded')\n",
    "\n",
    "dot.node('6',   'Candidate\\nrepeat expansion?',     shape='diamond', fontname='Arial', fontsize=FS, width=WI, heigth=HE)\n",
    "dot.node('6-2', 'Structure resolved?',   shape='diamond', fontname='Arial', fontsize=FS, width=WI, heigth=HE)\n",
    "dot.node('6-3', '1 P/LP\\n(Fig. S8)', shape='box',     fontname='Arial', fontsize=FS, width=WI, heigth=HE, style='rounded')\n",
    "\n",
    "dot.edge('3',   '3-2', label = 'Yes', fontname='Arial', fontsize=FS)\n",
    "\n",
    "dot.edge('4',   '4-2', label = 'Yes', fontname='Arial', fontsize=FS)\n",
    "\n",
    "dot.edge('5',   '5-2', label = 'Yes', fontname='Arial', fontsize=FS)\n",
    "dot.edge('5-2', '5-3', label = 'Yes', fontname='Arial', fontsize=FS)\n",
    "\n",
    "dot.edge('6',   '6-2', label = 'Yes', fontname='Arial', fontsize=FS)\n",
    "dot.edge('6-2', '6-3', label = 'Yes', fontname='Arial', fontsize=FS)\n",
    "\n",
    "dot.attr(\"graph\", splines = \"ortho\", rankdir = \"LR\", dpi=\"1000\")\n",
    "dot.render('./sub1', view=True)\n"
   ]
  },
  {
   "cell_type": "code",
   "execution_count": 110,
   "id": "2b2b1059-f180-4a2e-af5b-a8f455c407fd",
   "metadata": {},
   "outputs": [
    {
     "data": {
      "text/plain": [
       "'sub1-2.png'"
      ]
     },
     "execution_count": 110,
     "metadata": {},
     "output_type": "execute_result"
    },
    {
     "name": "stderr",
     "output_type": "stream",
     "text": [
      "Error: no \"view\" mailcap rules found for type \"image/png\"\n"
     ]
    }
   ],
   "source": [
    "# sub1-2\n",
    "\n",
    "FS = \"6\"\n",
    "WI = \"1.8\"\n",
    "HE = \"0.6\"\n",
    "\n",
    "dot = graphviz.Digraph(format = 'png', engine = 'dot', comment = \"aaa\")\n",
    "\n",
    "dot.node('2-2', '331 healthy pariticipants',   shape='box',       fontname='Arial', fontsize=FS, width=WI, heigth=HE, style='rounded')\n",
    "dot.node('2',   'GS',                          shape='rectangle', fontname='Arial', fontsize=FS, width=WI, heigth=HE)\n",
    "\n",
    "dot.edge('2-2', '2', label = '')\n",
    "\n",
    "dot.attr(\"graph\", splines = \"ortho\", rankdir = \"RL\", dpi=\"1000\")\n",
    "dot.render('./sub1-2', view=True)\n",
    "\n"
   ]
  },
  {
   "cell_type": "code",
   "execution_count": 111,
   "id": "718f27bb-bda1-4c44-866e-32b459a31d14",
   "metadata": {},
   "outputs": [
    {
     "data": {
      "text/plain": [
       "'sub2.png'"
      ]
     },
     "execution_count": 111,
     "metadata": {},
     "output_type": "execute_result"
    },
    {
     "name": "stderr",
     "output_type": "stream",
     "text": [
      "Error: no \"view\" mailcap rules found for type \"image/png\"\n"
     ]
    }
   ],
   "source": [
    "# sub2\n",
    "\n",
    "FS = \"6\"\n",
    "WI = \"1.8\"\n",
    "HE = \"0.6\"\n",
    "\n",
    "dot = graphviz.Digraph(format = 'png', engine = 'dot', comment = \"aaa\")\n",
    "\n",
    "dot.node('5-4', 'T-LRS and/or OGM',         shape='rectangle', fontname='Arial', fontsize=FS, width=WI, heigth=HE)\n",
    "dot.node('5-5', '1 P/LP & 2 VUS\\n(Fig. 3, S5, & S6)', shape='box',       fontname='Arial', fontsize=FS, width=WI, heigth=HE, style='rounded')\n",
    "\n",
    "dot.node('6-4', 'T-LRS',                 shape='rectangle', fontname='Arial', fontsize=FS, width=WI, heigth=HE)\n",
    "dot.node('6-5', '1 P/LP & 1 VUS\\n(Fig. 6 & S8)', shape='box',       fontname='Arial', fontsize=FS, width=WI, heigth=HE, style='rounded')\n",
    "\n",
    "dot.edge('5-4', '5-5',   label = '')\n",
    "\n",
    "dot.edge('6-4', '6-5',   label = '')\n",
    "\n",
    "dot.attr(\"graph\", splines = \"ortho\", rankdir = \"LR\", dpi=\"1000\")\n",
    "dot.render('./sub2', view=True)\n",
    "\n"
   ]
  },
  {
   "cell_type": "code",
   "execution_count": 112,
   "id": "62fe2bb3-b7e2-443b-a06e-7401862b26be",
   "metadata": {},
   "outputs": [
    {
     "name": "stderr",
     "output_type": "stream",
     "text": [
      "Warning: Orthogonal edges do not currently handle edge labels. Try using xlabels.\n"
     ]
    },
    {
     "data": {
      "text/plain": [
       "'sub3.png'"
      ]
     },
     "execution_count": 112,
     "metadata": {},
     "output_type": "execute_result"
    },
    {
     "name": "stderr",
     "output_type": "stream",
     "text": [
      "Error: no \"view\" mailcap rules found for type \"image/png\"\n"
     ]
    }
   ],
   "source": [
    "# sub3\n",
    "\n",
    "FS = \"6\"\n",
    "WI = \"1.8\"\n",
    "HE = \"0.6\"\n",
    "\n",
    "dot = graphviz.Digraph(format = 'png', engine = 'dot', comment = \"aaa\")\n",
    "\n",
    "dot.node('5-2', 'Structure resolved?',   shape='diamond',   fontname='Arial', fontsize=FS, width=WI, heigth=HE)\n",
    "dot.node('5-4', 'T-LRS and/or OGM',         shape='rectangle', fontname='Arial', fontsize=FS, width=WI, heigth=HE)\n",
    "\n",
    "dot.node('6-2', 'Structure resolved?',   shape='diamond',   fontname='Arial', fontsize=FS, width=WI, heigth=HE)\n",
    "dot.node('6-4', 'T-LRS',                 shape='rectangle', fontname='Arial', fontsize=FS, width=WI, heigth=HE)\n",
    "\n",
    "dot.edge('5-2', '5-4',   label = 'No', fontname='Arial', fontsize=FS)\n",
    "\n",
    "dot.edge('6-2', '6-4',   label = 'No', fontname='Arial', fontsize=FS)\n",
    "\n",
    "dot.attr(\"graph\", splines = \"ortho\", rankdir = \"TB\", dpi=\"1000\")\n",
    "dot.render('./sub3', view=True)\n",
    "\n"
   ]
  }
 ],
 "metadata": {
  "kernelspec": {
   "display_name": "Python(graph)",
   "language": "python",
   "name": "graph"
  },
  "language_info": {
   "codemirror_mode": {
    "name": "ipython",
    "version": 3
   },
   "file_extension": ".py",
   "mimetype": "text/x-python",
   "name": "python",
   "nbconvert_exporter": "python",
   "pygments_lexer": "ipython3",
   "version": "3.13.0"
  }
 },
 "nbformat": 4,
 "nbformat_minor": 5
}
