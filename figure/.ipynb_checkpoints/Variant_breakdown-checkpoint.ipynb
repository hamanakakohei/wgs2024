{
 "cells": [
  {
   "cell_type": "code",
   "execution_count": 1,
   "id": "e0610f5c-bc3c-4c2b-ba92-48ed6a13ba2e",
   "metadata": {},
   "outputs": [],
   "source": [
    "# graph env\n",
    "import graphviz\n",
    "import os\n",
    "\n",
    "os.environ[\"PATH\"] += os.pathsep + \"/home/hamanaka/miniconda3/envs/graph/bin/\""
   ]
  },
  {
   "cell_type": "code",
   "execution_count": 2,
   "id": "7a6e4de5-9c43-478b-a0cf-11bfb7181ef1",
   "metadata": {},
   "outputs": [
    {
     "data": {
      "text/plain": [
       "'variant_breakdown1.png'"
      ]
     },
     "execution_count": 2,
     "metadata": {},
     "output_type": "execute_result"
    }
   ],
   "source": [
    "# main\n",
    "\n",
    "FS = \"8\"\n",
    "WI = \"1.8\"\n",
    "HE = \"0.6\"\n",
    "\n",
    "dot = graphviz.Digraph(format = 'png', engine = 'dot', comment = \"aaa\")\n",
    "\n",
    "comment_1   = '54 of 260 ID/DD families were diagnosed by GS'\n",
    "comment_2_1 = '32 were detectable by ES'\n",
    "comment_2_2 = '22 required GS'\n",
    "comment_3_1 = '28 P/LP'\n",
    "comment_3_2 = '4 VUS'\n",
    "comment_3_3 = '13 P/LP'\n",
    "comment_3_4 = '9 VUS'\n",
    "\n",
    "dot.node('1',   comment_1,   shape='rectangle', fontname='Arial', fontsize=FS, width=WI, heigth=HE)\n",
    "dot.node('2-1', comment_2_1, shape='rectangle', fontname='Arial', fontsize=FS, width=WI, heigth=HE)\n",
    "dot.node('2-2', comment_2_2, shape='rectangle', fontname='Arial', fontsize=FS, width=WI, heigth=HE)\n",
    "dot.node('3-1', comment_3_1, shape='rectangle', fontname='Arial', fontsize=FS, width=WI, heigth=HE)\n",
    "dot.node('3-2', comment_3_2, shape='rectangle', fontname='Arial', fontsize=FS, width=WI, heigth=HE)\n",
    "dot.node('3-3', comment_3_3, shape='rectangle', fontname='Arial', fontsize=FS, width=WI, heigth=HE)\n",
    "dot.node('3-4', comment_3_4, shape='rectangle', fontname='Arial', fontsize=FS, width=WI, heigth=HE)\n",
    "\n",
    "dot.edge('1',   '2-1', label = '')\n",
    "dot.edge('1',   '2-2', label = '')\n",
    "dot.edge('2-1', '3-1', label = '')\n",
    "dot.edge('2-1', '3-2', label = '')\n",
    "dot.edge('2-2', '3-3', label = '')\n",
    "dot.edge('2-2', '3-4', label = '')\n",
    "\n",
    "dot.attr(\"graph\", rankdir = \"TB\", nodesep = '0.2', ranksep = '0.4', dpi=\"1000\")\n",
    "dot.render('variant_breakdown1')\n",
    "dot.view()"
   ]
  },
  {
   "cell_type": "code",
   "execution_count": 3,
   "id": "011d604b-49c5-4f9b-8d3b-c57271eb7910",
   "metadata": {},
   "outputs": [
    {
     "name": "stderr",
     "output_type": "stream",
     "text": [
      "Error: no \"view\" mailcap rules found for type \"image/png\"\n"
     ]
    },
    {
     "data": {
      "text/plain": [
       "'variant_breakdown2_4.png'"
      ]
     },
     "execution_count": 3,
     "metadata": {},
     "output_type": "execute_result"
    }
   ],
   "source": [
    "# sub1\n",
    "\n",
    "FS = \"8\"\n",
    "WI = \"1.8\"\n",
    "HE = \"0.6\"\n",
    "\n",
    "dot1 = graphviz.Digraph(format = 'png', engine = 'dot', comment = \"aaa\")\n",
    "comment_3_1_1 = '16 coding SNVs'\n",
    "comment_3_1_2 = '2 intronic SNVs\\n(Fig. 5A & D)'\n",
    "comment_3_1_3 = '7 CNVs (3 or more exons)\\n(Fig. 3D & S4)'\n",
    "comment_3_1_4 = '2 exonic MEIs\\n(Fig. S4E & F)'\n",
    "comment_3_1_5 = '1 repeat expansion\\n(Fig. S9A)'\n",
    "dot1.node('3-1-5', comment_3_1_5, shape='rectangle', fontname='Arial', fontsize=FS, width=WI, heigth=HE)\n",
    "dot1.node('3-1-4', comment_3_1_4, shape='rectangle', fontname='Arial', fontsize=FS, width=WI, heigth=HE)\n",
    "dot1.node('3-1-3', comment_3_1_3, shape='rectangle', fontname='Arial', fontsize=FS, width=WI, heigth=HE)\n",
    "dot1.node('3-1-2', comment_3_1_2, shape='rectangle', fontname='Arial', fontsize=FS, width=WI, heigth=HE)\n",
    "dot1.node('3-1-1', comment_3_1_1, shape='rectangle', fontname='Arial', fontsize=FS, width=WI, heigth=HE)\n",
    "dot1.attr(\"graph\", rankdir = \"RL\", nodesep = '0.05', dpi=\"1000\")\n",
    "dot1.render('variant_breakdown2_1')\n",
    "\n",
    "dot2 = graphviz.Digraph(format = 'png', engine = 'dot', comment = \"aaa\")\n",
    "comment_3_2_1 = '2 new genes\\n(Fig. S2)'\n",
    "comment_3_2_2 = '1 coding SNV'\n",
    "comment_3_2_3 = '1 CNV (3 or more exons)\\n(Fig. 3A to C)'\n",
    "dot2.node('3-2-3', comment_3_2_3, shape='rectangle', fontname='Arial', fontsize=FS, width=WI, heigth=HE)\n",
    "dot2.node('3-2-2', comment_3_2_2, shape='rectangle', fontname='Arial', fontsize=FS, width=WI, heigth=HE)\n",
    "dot2.node('3-2-1', comment_3_2_1, shape='rectangle', fontname='Arial', fontsize=FS, width=WI, heigth=HE)\n",
    "dot2.attr(\"graph\", rankdir = \"RL\", nodesep = '0.05', dpi=\"1000\")\n",
    "dot2.render('variant_breakdown2_2')\n",
    "\n",
    "dot3 = graphviz.Digraph(format = 'png', engine = 'dot', comment = \"aaa\")\n",
    "comment_3_3_1 = '4 deep-inton SNVs\\n(Fig. 5B, C, E, & F)'\n",
    "comment_3_3_2 = '7 CNVs (1 or 2 exons)\\n(Fig. 2A)'\n",
    "comment_3_3_3 = '1 inversion\\n(Fig. 2B)'\n",
    "comment_3_3_4 = '1 repeat expansion\\n(Fig. S9B)'\n",
    "dot3.node('3-3-4', comment_3_3_4, shape='rectangle', fontname='Arial', fontsize=FS, width=WI, heigth=HE)\n",
    "dot3.node('3-3-3', comment_3_3_3, shape='rectangle', fontname='Arial', fontsize=FS, width=WI, heigth=HE)\n",
    "dot3.node('3-3-2', comment_3_3_2, shape='rectangle', fontname='Arial', fontsize=FS, width=WI, heigth=HE)\n",
    "dot3.node('3-3-1', comment_3_3_1, shape='rectangle', fontname='Arial', fontsize=FS, width=WI, heigth=HE)\n",
    "dot3.attr(\"graph\", rankdir = \"RL\", nodesep = '0.05', dpi=\"1000\")\n",
    "dot3.render('variant_breakdown2_3')\n",
    "\n",
    "dot4 = graphviz.Digraph(format = 'png', engine = 'dot', comment = \"aaa\")\n",
    "comment_3_4_1 = '3 deep-intron SNVs\\n(Fig. 5G & S8)'\n",
    "comment_3_4_2 = '2 non-coding gene SVs\\n(Fig. 2C)'\n",
    "comment_3_4_3 = '1 translocation\\n(Fig. 4A)'\n",
    "comment_3_4_4 = '1 chromothripsis\\n(Fig. 3F & 4C)'\n",
    "comment_3_4_5 = '1 intronic insertion\\n(Fig. 5H)'\n",
    "comment_3_4_6 = '1 repeat expansion\\n(Fig. 6)'\n",
    "dot4.node('3-4-6', comment_3_4_6, shape='rectangle', fontname='Arial', fontsize=FS, width=WI, heigth=HE)\n",
    "dot4.node('3-4-5', comment_3_4_5, shape='rectangle', fontname='Arial', fontsize=FS, width=WI, heigth=HE)\n",
    "dot4.node('3-4-4', comment_3_4_4, shape='rectangle', fontname='Arial', fontsize=FS, width=WI, heigth=HE)\n",
    "dot4.node('3-4-3', comment_3_4_3, shape='rectangle', fontname='Arial', fontsize=FS, width=WI, heigth=HE)\n",
    "dot4.node('3-4-2', comment_3_4_2, shape='rectangle', fontname='Arial', fontsize=FS, width=WI, heigth=HE)\n",
    "dot4.node('3-4-1', comment_3_4_1, shape='rectangle', fontname='Arial', fontsize=FS, width=WI, heigth=HE)\n",
    "dot4.attr(\"graph\", rankdir = \"RL\", nodesep = '0.05', dpi=\"1000\")\n",
    "dot4.render('variant_breakdown2_4')\n"
   ]
  },
  {
   "cell_type": "code",
   "execution_count": 6,
   "id": "490ab210-1aa7-4542-aafe-05fe92fc40a0",
   "metadata": {},
   "outputs": [],
   "source": [
    "from PIL import Image\n",
    "from IPython.display import display\n",
    "\n",
    "img1  = Image.open('variant_breakdown1.png')\n",
    "img21 = Image.open('variant_breakdown2_1.png')\n",
    "img22 = Image.open('variant_breakdown2_2.png')\n",
    "img23 = Image.open('variant_breakdown2_3.png')\n",
    "img24 = Image.open('variant_breakdown2_4.png')\n",
    "\n",
    "width = img1.width # + img21.width + img22.width + img23.width + img24.width\n",
    "height = img1.height + img24.height\n",
    "\n",
    "# Create a new blank image\n",
    "# Paste both images into the new image\n",
    "margin = int( (img1.width - img21.width - img22.width - img23.width - img24.width) / 3 )\n",
    "margin_jouge = 100\n",
    "\n",
    "combined_img = Image.new('RGB', (width, height + margin_jouge), 'white')\n",
    "\n",
    "combined_img.paste(img1,  (0, 0))\n",
    "combined_img.paste(img21, (0, img1.height + margin_jouge))\n",
    "combined_img.paste(img22, (img21.width + margin, img1.height + margin_jouge))\n",
    "combined_img.paste(img23, (img21.width + margin + img22.width + margin, img1.height + margin_jouge))\n",
    "combined_img.paste(img24, (img21.width + margin + img22.width + margin + img23.width + margin, img1.height + margin_jouge))\n",
    "\n",
    "\n",
    "# 縦横比を保ちつつサイズと解像度を指定してプロットする\n",
    "dpi = 1000 \n",
    "width_cm = 17\n",
    "\n",
    "aspect_ratio = combined_img.height / combined_img.width\n",
    "height_cm = int(width_cm * aspect_ratio) \n",
    "width_px = int((width_cm * dpi) / 2.54)\n",
    "height_px = int((height_cm * dpi) / 2.54)\n",
    "\n",
    "combined_img = combined_img.resize((width_px, height_px))\n",
    "display(combined_img)\n",
    "combined_img.save(\"output_image.pdf\", \"PDF\", resolution=dpi)\n"
   ]
  }
 ],
 "metadata": {
  "kernelspec": {
   "display_name": "Python(graph)",
   "language": "python",
   "name": "graph"
  },
  "language_info": {
   "codemirror_mode": {
    "name": "ipython",
    "version": 3
   },
   "file_extension": ".py",
   "mimetype": "text/x-python",
   "name": "python",
   "nbconvert_exporter": "python",
   "pygments_lexer": "ipython3",
   "version": "3.13.0"
  }
 },
 "nbformat": 4,
 "nbformat_minor": 5
}
